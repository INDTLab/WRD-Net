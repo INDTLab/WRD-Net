{
 "cells": [
  {
   "cell_type": "code",
   "execution_count": 1,
   "id": "06bcd6f0",
   "metadata": {},
   "outputs": [],
   "source": [
    "import numpy as np \n",
    "from numpy import *\n",
    "from random import *\n",
    "import matplotlib.pyplot as plt\n",
    "from PIL import Image\n",
    "from pylab import array\n",
    "from pylab import plot\n",
    "import cv2\n",
    "import os\n",
    "import math\n",
    "import time"
   ]
  },
  {
   "cell_type": "code",
   "execution_count": 2,
   "id": "d5472a09",
   "metadata": {},
   "outputs": [],
   "source": [
    "M=2117\n",
    "refs = zeros((M, 4), dtype=float)\n",
    "refs_gt = zeros((M, 4), dtype=float)\n",
    "f_vertical= open('247_Vertical.txt', 'r+')\n",
    "f_line = f_vertical.read()\n",
    "Label = np.zeros((M,20,2),dtype=np.float32)\n",
    "PCA_Label = np.zeros((M,20,2),dtype=np.float32)\n",
    "Res = np.zeros((M,20,2),dtype=np.float32)\n",
    "PCA_Res = np.zeros((M,20,2),dtype=np.float32)"
   ]
  },
  {
   "cell_type": "code",
   "execution_count": 3,
   "id": "968a5b70",
   "metadata": {},
   "outputs": [],
   "source": [
    "def PCA(dataMat,topNfeat=5):\n",
    "    meanVals = np.mean(dataMat,axis = 0)\n",
    "    dataMean = dataMat - meanVals\n",
    "    conMat = dataMean.T.dot(dataMean)\n",
    "    eigVals,eigVects = np.linalg.eig(conMat)   \n",
    "    eigValInd = np.argsort(eigVals)\n",
    "    eigValInd = eigValInd[:-(topNfeat+1):-1]\n",
    "    redeigVects=eigVects[:,eigValInd] \n",
    "    lowdataMat = dataMean.dot(redeigVects)\n",
    "    condata = (lowdataMat.dot(redeigVects.T)) + meanVals\n",
    "    reducedata=lowdataMat+np.mean(dataMat)\n",
    "    return condata"
   ]
  },
  {
   "cell_type": "code",
   "execution_count": 4,
   "id": "13fa068e",
   "metadata": {},
   "outputs": [],
   "source": [
    "def get_gt_from_npy(file):\n",
    "    for root, dirs, files in os.walk(file):\n",
    "        for index,f in enumerate(files):\n",
    "            print(index,f[0:16])\n",
    "            if (not f.endswith('.npy')):\n",
    "                continue       \n",
    "            lab=np.load(os.path.join(root, f))\n",
    "            Label[index]=lab\n",
    "            pca_lab=PCA(lab,1)\n",
    "            PCA_Label[index]=pca_lab\n",
    "\n",
    "            if f[0:16] in f_line:\n",
    "                ll = pca_lab[0][0],pca_lab[0][1],pca_lab[19][0],pca_lab[19][1]\n",
    "                ll_x = [ll[0],ll[2]]\n",
    "                ll_y = [ll[1],ll[3]]\n",
    "                slope, intercept = np.polyfit(ll_x,ll_y,1)\n",
    "                ll=(ll_y[0]-intercept)/slope,ll_y[0],(ll_y[1]-intercept)/slope,ll_y[1]\n",
    "            else:\n",
    "                ll = pca_lab[0][0],pca_lab[0][1],pca_lab[19][0],pca_lab[19][1]\n",
    "                ll_x = [ll[0],ll[2]]\n",
    "                ll_y = [ll[1],ll[3]]\n",
    "                slope, intercept = np.polyfit(ll_x,ll_y,1)\n",
    "                ll=ll_x[0],ll_x[0]*slope+intercept,ll_x[1],ll_x[1]*slope+intercept\n",
    "            print(ll)\n",
    "            refs_gt[index:] = ll\n",
    "    return refs_gt,Label"
   ]
  },
  {
   "cell_type": "code",
   "execution_count": 5,
   "id": "2ab543d1",
   "metadata": {},
   "outputs": [
    {
     "name": "stdout",
     "output_type": "stream",
     "text": [
      "[[0. 0. 0. 0.]\n",
      " [0. 0. 0. 0.]\n",
      " [0. 0. 0. 0.]\n",
      " ...\n",
      " [0. 0. 0. 0.]\n",
      " [0. 0. 0. 0.]\n",
      " [0. 0. 0. 0.]]\n"
     ]
    }
   ],
   "source": [
    "file_dir=\".\\\\dataWRSD\\\\annotations\"\n",
    "label_refs,Label = get_gt_from_npy(file_dir)\n",
    "print(label_refs)"
   ]
  },
  {
   "cell_type": "code",
   "execution_count": 6,
   "id": "484ad0f5",
   "metadata": {},
   "outputs": [],
   "source": [
    "def get_result_from_npy(file):\n",
    "    for root, dirs, files in os.walk(file):\n",
    "        for index,f in enumerate(files):\n",
    "            print(index,f,f[8:24])\n",
    "            if (not f.endswith('.npy')):\n",
    "                continue       \n",
    "            res=np.load(os.path.join(root, f))\n",
    "            if f[8:24] in f_line:\n",
    "                res = res[np.argsort(res[:,1])]\n",
    "            else:\n",
    "                res= res[np.argsort(res[:,0])]\n",
    "            Res[index]=res\n",
    "            pca_res=PCA(res,1)\n",
    "            PCA_Res[index]=pca_res\n",
    "            if f[8:24] in f_line:\n",
    "                ll = pca_res[0][0],pca_res[0][1],pca_res[19][0],pca_res[19][1]\n",
    "                ll_x = [ll[0],ll[2]]\n",
    "                ll_y = [ll[1],ll[3]]\n",
    "                slope, intercept = np.polyfit(ll_x,ll_y,1)\n",
    "                print(ll_x,ll_y,slope, intercept)\n",
    "                ll=(ll_y[0]-intercept)/slope,ll_y[0],(ll_y[1]-intercept)/slope,ll_y[1]\n",
    "\n",
    "            else:\n",
    "                ll = pca_res[0][0],pca_res[0][1],pca_res[19][0],pca_res[19][1]\n",
    "                ll_x = [ll[0],ll[2]]\n",
    "                ll_y = [ll[1],ll[3]]\n",
    "                if ll_y[1]-ll_y[0]==0:\n",
    "                    ll = ll_x[0],ll_y[0],ll_x[1],ll_y[1]\n",
    "                else:\n",
    "                    slope, intercept = np.polyfit(ll_x,ll_y,1)\n",
    "                    ll=ll_x[0],ll_x[0]*slope+intercept,ll_x[1],ll_x[1]*slope+intercept\n",
    "\n",
    "            print(ll)\n",
    "            refs[index:] = ll\n",
    "    return refs,Res"
   ]
  },
  {
   "cell_type": "code",
   "execution_count": 7,
   "id": "dbe92a4f",
   "metadata": {},
   "outputs": [
    {
     "name": "stdout",
     "output_type": "stream",
     "text": [
      "[[0. 0. 0. 0.]\n",
      " [0. 0. 0. 0.]\n",
      " [0. 0. 0. 0.]\n",
      " ...\n",
      " [0. 0. 0. 0.]\n",
      " [0. 0. 0. 0.]\n",
      " [0. 0. 0. 0.]]\n"
     ]
    }
   ],
   "source": [
    "result_dir=\".\\\\results\\\\coordsresult\"\n",
    "detected_refs,Res = get_result_from_npy(result_dir)\n",
    "print(detected_refs)"
   ]
  },
  {
   "cell_type": "code",
   "execution_count": 8,
   "id": "6e8420d8",
   "metadata": {},
   "outputs": [
    {
     "name": "stdout",
     "output_type": "stream",
     "text": [
      "threshold:theta 3.0 threshold:distance 7.5\n",
      "angle：Mean nan Var. nan Std. nan\n",
      "distance：Mean 0.0 Var. 0.0 Std. 0.0\n",
      "0\n",
      "True Positive Rate: 0.0\n"
     ]
    },
    {
     "name": "stderr",
     "output_type": "stream",
     "text": [
      "<ipython-input-8-e453014e34b9>:20: RuntimeWarning: invalid value encountered in double_scalars\n",
      "  cosangle=(vec[i].dot(det[i]))/np.sqrt(vec[i].dot(vec[i]))/np.sqrt(det[i].dot(det[i]))\n"
     ]
    }
   ],
   "source": [
    "vec = zeros((M,2), dtype=float)\n",
    "det = zeros((M,2), dtype=float)\n",
    "angle_all= []\n",
    "dist_all= []\n",
    "totcnt=0\n",
    "sum_angle=0\n",
    "sum_dist=0\n",
    "R=0.025*300\n",
    "theta=math.pi/60\n",
    "print('threshold:theta',math.degrees(theta),'threshold:distance',R)\n",
    "for i in range(M):\n",
    "    cenrefs_x=(label_refs[i][0]+label_refs[i][2])/2\n",
    "    cenrefs_y=(label_refs[i][1]+label_refs[i][3])/2\n",
    "    detrefs_x=(detected_refs[i][0]+detected_refs[i][2])/2\n",
    "    detrefs_y=(detected_refs[i][1]+detected_refs[i][3])/2\n",
    "    vec[i][0]=label_refs[i][2]-label_refs[i][0]\n",
    "    vec[i][1]=label_refs[i][3]-label_refs[i][1]\n",
    "    det[i][0]=detected_refs[i][2]-detected_refs[i][0]\n",
    "    det[i][1]=detected_refs[i][3]-detected_refs[i][1]\n",
    "    cosangle=(vec[i].dot(det[i]))/np.sqrt(vec[i].dot(vec[i]))/np.sqrt(det[i].dot(det[i]))\n",
    "\n",
    "    rad_angle=math.acos(cosangle)\n",
    "    angle=math.degrees(rad_angle)\n",
    "    dist_mid=np.sqrt(pow(abs(cenrefs_x-detrefs_x),2)+pow(abs(cenrefs_y-detrefs_y),2))\n",
    "    angle_all.append(angle)\n",
    "    dist_all.append(dist_mid)\n",
    "    if R > dist_mid:\n",
    "        if theta > math.acos(cosangle):\n",
    "            totcnt+=1\n",
    "\n",
    "mean_angle=np.mean(angle_all)\n",
    "var_angle=np.var(angle_all)\n",
    "std_angle=np.std(angle_all)\n",
    "mean_dist=np.mean(dist_all)\n",
    "var_dist=np.var(dist_all)\n",
    "std_dist=np.std(dist_all)\n",
    "print('angle：Mean',mean_angle,'Var.',var_angle,'Std.',std_angle)\n",
    "print('distance：Mean',mean_dist,'Var.',var_dist,'Std.',std_dist)\n",
    "print(totcnt)\n",
    "print('True Positive Rate:',totcnt/M)"
   ]
  },
  {
   "cell_type": "code",
   "execution_count": null,
   "id": "7d194527",
   "metadata": {},
   "outputs": [],
   "source": [
    "def visualization(file_pathname,Lab,Det):\n",
    "    for i,filename in enumerate(os.listdir(file_pathname)):\n",
    "        print(i)\n",
    "        mask = plt.imread(file_pathname+'\\\\'+filename)\n",
    "        lab_x = Lab[i].T[0]\n",
    "        lab_y = Lab[i].T[1]\n",
    "        det_x = Det[i].T[0]\n",
    "        det_y = Det[i].T[1]\n",
    "        plt.figure(figsize=(4,3),dpi=100)\n",
    "        plt.gca().xaxis.set_major_locator(plt.NullLocator())\n",
    "        plt.gca().yaxis.set_major_locator(plt.NullLocator())\n",
    "        plt.subplots_adjust(top = 1, bottom = 0, right = 1, left = 0, hspace = 0, wspace = 0)\n",
    "        plt.margins(0,0)       \n",
    "\n",
    "        plot(lab_x,lab_y,color='blue',marker='o', linestyle='-', linewidth=1, markersize=4)\n",
    "        plot(det_x,det_y,color='yellow',marker='o', linestyle='-', linewidth=1, markersize=4)\n",
    "        plt.imshow(mask)\n",
    "        plt.savefig('.\\\\results\\\\visual'+\"\\\\\"+filename,pad_inches=0)\n",
    "        plt.show()\n",
    "        plt.clf()\n",
    "        plt.close()\n",
    "\n",
    "file_path='.\\\\data\\\\WRSD\\\\images'\n",
    "visualization(file_path,Label,Res)"
   ]
  }
 ],
 "metadata": {
  "kernelspec": {
   "display_name": "Python 3",
   "language": "python",
   "name": "python3"
  },
  "language_info": {
   "codemirror_mode": {
    "name": "ipython",
    "version": 3
   },
   "file_extension": ".py",
   "mimetype": "text/x-python",
   "name": "python",
   "nbconvert_exporter": "python",
   "pygments_lexer": "ipython3",
   "version": "3.8.8"
  }
 },
 "nbformat": 4,
 "nbformat_minor": 5
}
